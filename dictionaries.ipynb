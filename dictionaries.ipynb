{
 "cells": [
  {
   "cell_type": "code",
   "execution_count": 1,
   "id": "009d18a1",
   "metadata": {},
   "outputs": [],
   "source": [
    "# dictionaries === objects in js\n",
    "d = {}\n",
    "# d = dict()"
   ]
  },
  {
   "cell_type": "code",
   "execution_count": 3,
   "id": "b23b2c53",
   "metadata": {},
   "outputs": [],
   "source": [
    "d = {\"gorgy\": 24,\"oscar\": 30,\"julz\": 32}"
   ]
  },
  {
   "cell_type": "code",
   "execution_count": 4,
   "id": "e24af39e",
   "metadata": {},
   "outputs": [],
   "source": [
    "d[\"em\"] = 23"
   ]
  },
  {
   "cell_type": "code",
   "execution_count": 8,
   "id": "2c0da42a",
   "metadata": {},
   "outputs": [
    {
     "name": "stdout",
     "output_type": "stream",
     "text": [
      "key\n",
      "gorgy\n",
      "value\n",
      "24\n",
      "key\n",
      "oscar\n",
      "value\n",
      "30\n",
      "key\n",
      "julz\n",
      "value\n",
      "32\n",
      "key\n",
      "em\n",
      "value\n",
      "23\n"
     ]
    }
   ],
   "source": [
    "for key, value in d.items():\n",
    "    print(\"key\")\n",
    "    print(key)\n",
    "    print(\"value\")\n",
    "    print(value)"
   ]
  }
 ],
 "metadata": {
  "kernelspec": {
   "display_name": "Python 3 (ipykernel)",
   "language": "python",
   "name": "python3"
  },
  "language_info": {
   "codemirror_mode": {
    "name": "ipython",
    "version": 3
   },
   "file_extension": ".py",
   "mimetype": "text/x-python",
   "name": "python",
   "nbconvert_exporter": "python",
   "pygments_lexer": "ipython3",
   "version": "3.8.10"
  }
 },
 "nbformat": 4,
 "nbformat_minor": 5
}

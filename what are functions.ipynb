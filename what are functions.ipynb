{
 "cells": [
  {
   "cell_type": "code",
   "execution_count": 3,
   "id": "837f3ace",
   "metadata": {},
   "outputs": [
    {
     "name": "stdout",
     "output_type": "stream",
     "text": [
      "print this outside the function\n",
      "aaaaaarrh\n",
      "aaaaaaaaa2\n"
     ]
    }
   ],
   "source": [
    "def function1():\n",
    "    print(\"aaaaaarrh\")\n",
    "    print(\"aaaaaaaaa2\")\n",
    "print(\"print this outside the function\")\n",
    "\n",
    "function1()"
   ]
  },
  {
   "cell_type": "code",
   "execution_count": 8,
   "id": "593bd052",
   "metadata": {},
   "outputs": [
    {
     "name": "stdout",
     "output_type": "stream",
     "text": [
      "6\n"
     ]
    }
   ],
   "source": [
    "# mapping\n",
    "# input of an argument\n",
    "def function2(x):\n",
    "    return 2*x\n",
    "# return value or an output\n",
    "a = function2(3)\n",
    "print(a)"
   ]
  },
  {
   "cell_type": "code",
   "execution_count": 10,
   "id": "eacb66e5",
   "metadata": {},
   "outputs": [
    {
     "name": "stdout",
     "output_type": "stream",
     "text": [
      "13\n"
     ]
    }
   ],
   "source": [
    "def add(x,y):\n",
    "    return x + y\n",
    "e = add(6,7)\n",
    "print(e)"
   ]
  },
  {
   "cell_type": "code",
   "execution_count": 14,
   "id": "07f214a0",
   "metadata": {},
   "outputs": [
    {
     "name": "stdout",
     "output_type": "stream",
     "text": [
      "4\n",
      "still in this function\n",
      "12\n"
     ]
    }
   ],
   "source": [
    "def function3(x):\n",
    "    print(x)\n",
    "    print(\"still in this function\")\n",
    "    return 3*x\n",
    "\n",
    "f = function3(4)\n",
    "print(f)"
   ]
  },
  {
   "cell_type": "code",
   "execution_count": 19,
   "id": "88d94778",
   "metadata": {},
   "outputs": [
    {
     "name": "stdout",
     "output_type": "stream",
     "text": [
      "bmi : \n",
      "15.0\n",
      "bmi : \n",
      "7.908163265306124\n",
      "bmi : \n",
      "17.77777777777778\n",
      "fifi is not overweight\n",
      "adoma is not overweight\n",
      "omuga is not overweight\n"
     ]
    }
   ],
   "source": [
    "# bmi calculator\n",
    "name1 = \"fifi\"\n",
    "height_m1 = 2\n",
    "weight_kg1 = 60\n",
    "\n",
    "name2 = \"adoma\"\n",
    "height_m2 = 2.8\n",
    "weight_kg2 = 62\n",
    "\n",
    "name3 = \"omuga\"\n",
    "height_m3 = 1.5\n",
    "weight_kg3 = 40\n",
    "\n",
    "def bmi_calculator(name,height_m,weight_kg):\n",
    "    bmi = weight_kg / (height_m ** 2)\n",
    "    print(\"bmi : \")\n",
    "    print(bmi)\n",
    "    if bmi < 25:\n",
    "        return name +  \" is not overweight\"\n",
    "    else:\n",
    "        name + \"is overweight\"\n",
    "        \n",
    "result1 = bmi_calculator(name1, height_m1, weight_kg1)\n",
    "result2 = bmi_calculator(name2, height_m2, weight_kg2)\n",
    "result3 = bmi_calculator(name3, height_m3, weight_kg3)\n",
    "\n",
    "print(result1)\n",
    "print(result2)\n",
    "print(result3)"
   ]
  },
  {
   "cell_type": "code",
   "execution_count": null,
   "id": "af722ad4",
   "metadata": {},
   "outputs": [],
   "source": []
  }
 ],
 "metadata": {
  "kernelspec": {
   "display_name": "Python 3 (ipykernel)",
   "language": "python",
   "name": "python3"
  },
  "language_info": {
   "codemirror_mode": {
    "name": "ipython",
    "version": 3
   },
   "file_extension": ".py",
   "mimetype": "text/x-python",
   "name": "python",
   "nbconvert_exporter": "python",
   "pygments_lexer": "ipython3",
   "version": "3.8.10"
  }
 },
 "nbformat": 4,
 "nbformat_minor": 5
}

{
 "cells": [
  {
   "cell_type": "code",
   "execution_count": 1,
   "id": "0f71ced0",
   "metadata": {},
   "outputs": [
    {
     "name": "stdout",
     "output_type": "stream",
     "text": [
      "a is less than b\n"
     ]
    }
   ],
   "source": [
    "a = 1\n",
    "b = 2\n",
    "\n",
    "if a < b:\n",
    "    print(\"a is less than b\")"
   ]
  },
  {
   "cell_type": "code",
   "execution_count": 2,
   "id": "982f8cb3",
   "metadata": {},
   "outputs": [
    {
     "name": "stdout",
     "output_type": "stream",
     "text": [
      "c is less than d\n"
     ]
    }
   ],
   "source": [
    "c = 4\n",
    "d= 5\n",
    "\n",
    "if c < d:\n",
    "    print(\"c is less than d\")\n",
    "else:\n",
    "    print(\"c is NOT les than d\")"
   ]
  },
  {
   "cell_type": "code",
   "execution_count": 3,
   "id": "030c78db",
   "metadata": {},
   "outputs": [
    {
     "name": "stdout",
     "output_type": "stream",
     "text": [
      "e is less than f\n"
     ]
    }
   ],
   "source": [
    "e = 8\n",
    "f = 9\n",
    "\n",
    "if e < f:\n",
    "    print(\"e is less than f\")\n",
    "elif e == f:\n",
    "    print(\"e is equal to f\")\n",
    "else:\n",
    "    print(\"e is not less than f\")"
   ]
  },
  {
   "cell_type": "code",
   "execution_count": 6,
   "id": "85c78016",
   "metadata": {},
   "outputs": [
    {
     "name": "stdout",
     "output_type": "stream",
     "text": [
      "g is less that h\n"
     ]
    }
   ],
   "source": [
    "g = 10\n",
    "h = 12\n",
    "\n",
    "if g < h:\n",
    "    print(\"g is less that h\")\n",
    "else:\n",
    "    if g == h:\n",
    "        print(\"g is equal to h\")\n",
    "    else:\n",
    "        print(\"g is not less tahn h\")"
   ]
  },
  {
   "cell_type": "code",
   "execution_count": 11,
   "id": "070f8ddf",
   "metadata": {},
   "outputs": [
    {
     "name": "stdout",
     "output_type": "stream",
     "text": [
      "bmi : \n",
      "27.5\n",
      "Jay\n",
      "please go hit the gym\n"
     ]
    }
   ],
   "source": [
    "name = \"Jay\"\n",
    "weight_kg = 110\n",
    "height_m = 2\n",
    "\n",
    "bmi = weight_kg / (height_m ** 2)\n",
    "print(\"bmi : \")\n",
    "print(bmi)\n",
    "\n",
    "if bmi < 25:\n",
    "    print(name)\n",
    "    print(\"is not overweight\")\n",
    "else:\n",
    "    print(name)\n",
    "    print(\"please go hit the gym\")"
   ]
  },
  {
   "cell_type": "code",
   "execution_count": null,
   "id": "d16a90c7",
   "metadata": {},
   "outputs": [],
   "source": []
  }
 ],
 "metadata": {
  "kernelspec": {
   "display_name": "Python 3.8.10 64-bit",
   "language": "python",
   "name": "python3810jvsc74a57bd0916dbcbb3f70747c44a77c7bcd40155683ae19c65e1c03b4aa3499c5328201f1"
  },
  "language_info": {
   "codemirror_mode": {
    "name": "ipython",
    "version": 3
   },
   "file_extension": ".py",
   "mimetype": "text/x-python",
   "name": "python",
   "nbconvert_exporter": "python",
   "pygments_lexer": "ipython3",
   "version": "3.8.10"
  }
 },
 "nbformat": 4,
 "nbformat_minor": 5
}
